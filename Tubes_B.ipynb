{
 "cells": [
  {
   "cell_type": "code",
   "execution_count": 1,
   "metadata": {},
   "outputs": [],
   "source": [
    "# import needed library\n",
    "from sklearn.datasets import load_iris\n",
    "import pandas as pd\n",
    "from sklearn.preprocessing import LabelEncoder\n",
    "import math"
   ]
  },
  {
   "cell_type": "code",
   "execution_count": 2,
   "metadata": {},
   "outputs": [],
   "source": [
    "#load iris dataset\n",
    "data_iris = load_iris()\n",
    "iris_X, iris_y = load_iris(return_X_y=True)\n",
    "feature_iris = data_iris['feature_names']\n",
    "\n",
    "#load play tennis dataset\n",
    "play_tennis =  pd.read_csv('play_tennis.csv')\n",
    "play_tennis = play_tennis.drop('day',axis=1)"
   ]
  },
  {
   "cell_type": "code",
   "execution_count": 3,
   "metadata": {},
   "outputs": [],
   "source": [
    "#transform iris into dataframe\n",
    "iris_X=pd.DataFrame(iris_X)\n",
    "iris_y=pd.DataFrame(iris_y)"
   ]
  },
  {
   "cell_type": "code",
   "execution_count": 4,
   "metadata": {},
   "outputs": [],
   "source": [
    "#create index so be merge\n",
    "iris_X=iris_X.reset_index()\n",
    "iris_y=iris_y.reset_index()"
   ]
  },
  {
   "cell_type": "code",
   "execution_count": 5,
   "metadata": {},
   "outputs": [],
   "source": [
    "iris_y.rename(columns = {0:4}, inplace = True) "
   ]
  },
  {
   "cell_type": "code",
   "execution_count": 6,
   "metadata": {},
   "outputs": [],
   "source": [
    "#merge dataset iris\n",
    "iris=iris_X.merge(iris_y)"
   ]
  },
  {
   "cell_type": "code",
   "execution_count": 7,
   "metadata": {},
   "outputs": [],
   "source": [
    "#drop index\n",
    "iris.drop(\"index\",axis=1,inplace=True)"
   ]
  },
  {
   "cell_type": "code",
   "execution_count": 8,
   "metadata": {},
   "outputs": [],
   "source": [
    "iris.rename(columns = {0:feature_iris[0],1:feature_iris[1],2:feature_iris[2],3:feature_iris[3],4:\"target\"}, inplace = True)"
   ]
  },
  {
   "cell_type": "code",
   "execution_count": 9,
   "metadata": {},
   "outputs": [],
   "source": [
    "def entropy(parsed_data, target_attribute):\n",
    "    parsed_value_target = {}\n",
    "    total_value_target = 0\n",
    "  \n",
    "    for i in parsed_data[target_attribute]:\n",
    "        if i is not None:\n",
    "            if i not in parsed_value_target:\n",
    "                parsed_value_target[i] = 1\n",
    "            else:\n",
    "                parsed_value_target[i] += 1\n",
    "\n",
    "            total_value_target += 1\n",
    "  \n",
    "    log_result = 0\n",
    "\n",
    "    for i in parsed_value_target:\n",
    "        log_result += float(parsed_value_target[i])/total_value_target * math.log((float(parsed_value_target[i])/total_value_target), 2)\n",
    "  \n",
    "    return -1 * log_result"
   ]
  },
  {
   "cell_type": "code",
   "execution_count": 10,
   "metadata": {},
   "outputs": [],
   "source": [
    "# hasn't handle after universal entropy\n",
    "def information_gain(data, gain_attribute, target_attribute):\n",
    "    gain_result = 0\n",
    "    attribute_entropy_result = 0\n",
    "    parsed_attribute_count = {}\n",
    "    total_attribute_count = 0\n",
    "    \n",
    "    for i in data[gain_attribute]:\n",
    "        if i is not None:\n",
    "            if i not in parsed_attribute_count:\n",
    "                parsed_attribute_count[i] = 1\n",
    "            else:\n",
    "                parsed_attribute_count[i] += 1\n",
    "            \n",
    "            total_attribute_count += 1\n",
    "    \n",
    "    for i in parsed_attribute_count:\n",
    "        parsed_data = data.loc[data[gain_attribute]==i]\n",
    "        attribute_entropy_result += float(parsed_attribute_count[i])/total_attribute_count * entropy(parsed_data, target_attribute)    \n",
    "\n",
    "    gain_result += entropy(data,target_attribute) + (-1 * attribute_entropy_result)\n",
    "    return gain_result"
   ]
  },
  {
   "cell_type": "code",
   "execution_count": 74,
   "metadata": {},
   "outputs": [],
   "source": [
    "def split_information(data, gain_attribute):\n",
    "    res = entropy(data, gain_attribute)\n",
    "    if(res==0):\n",
    "        res=0.00000001\n",
    "    return res"
   ]
  },
  {
   "cell_type": "code",
   "execution_count": 75,
   "metadata": {},
   "outputs": [],
   "source": [
    "def gain_ratio(data, gain_attribute, target_attribute):\n",
    "    res = information_gain(data, gain_attribute, target_attribute) / split_information(data, gain_attribute)\n",
    "    return res"
   ]
  },
  {
   "cell_type": "code",
   "execution_count": 99,
   "metadata": {},
   "outputs": [],
   "source": [
    "def gain_ratio_continous(data, gain_attribute, target_attribute):\n",
    "    res = information_gain_continous(data, gain_attribute, target_attribute)[0] / split_information(data, gain_attribute)\n",
    "    return res,information_gain_continous(data, gain_attribute, target_attribute)[1]"
   ]
  },
  {
   "cell_type": "code",
   "execution_count": 76,
   "metadata": {},
   "outputs": [],
   "source": [
    "def best_attribute(data,target_attribute,is_IG):\n",
    "    gain_attribute = {\n",
    "        'value': 0,\n",
    "        'name': ''\n",
    "    }\n",
    "    \n",
    "    \n",
    "    for i in data.columns:\n",
    "        if (i != target_attribute):\n",
    "            if is_IG:\n",
    "                if information_gain(data, i, target_attribute) > gain_attribute['value']:\n",
    "                    gain_attribute['value'] = information_gain(data, i, target_attribute)\n",
    "                    gain_attribute['name'] = i\n",
    "            else:\n",
    "                if gain_ratio(data, i, target_attribute) > gain_attribute['value']:\n",
    "                    gain_attribute['value'] = gain_ratio(data, i, target_attribute)\n",
    "                    gain_attribute['name'] = i\n",
    "                \n",
    "\n",
    "    return gain_attribute['name']"
   ]
  },
  {
   "cell_type": "code",
   "execution_count": 77,
   "metadata": {},
   "outputs": [
    {
     "data": {
      "text/plain": [
       "0.9402859586706309"
      ]
     },
     "execution_count": 77,
     "metadata": {},
     "output_type": "execute_result"
    }
   ],
   "source": [
    "entropy(play_tennis,\"play\")"
   ]
  },
  {
   "cell_type": "code",
   "execution_count": 78,
   "metadata": {},
   "outputs": [
    {
     "data": {
      "text/plain": [
       "0.2467498197744391"
      ]
     },
     "execution_count": 78,
     "metadata": {},
     "output_type": "execute_result"
    }
   ],
   "source": [
    "information_gain(play_tennis, \"outlook\", \"play\")"
   ]
  },
  {
   "cell_type": "code",
   "execution_count": 79,
   "metadata": {},
   "outputs": [
    {
     "ename": "TypeError",
     "evalue": "best_attribute() missing 1 required positional argument: 'is_IG'",
     "output_type": "error",
     "traceback": [
      "\u001b[1;31m---------------------------------------------------------------------------\u001b[0m",
      "\u001b[1;31mTypeError\u001b[0m                                 Traceback (most recent call last)",
      "\u001b[1;32m<ipython-input-79-ff6e626b7498>\u001b[0m in \u001b[0;36m<module>\u001b[1;34m()\u001b[0m\n\u001b[1;32m----> 1\u001b[1;33m \u001b[0mbest_attribute\u001b[0m\u001b[1;33m(\u001b[0m\u001b[0mplay_tennis\u001b[0m\u001b[1;33m,\u001b[0m\u001b[1;34m'play'\u001b[0m\u001b[1;33m)\u001b[0m\u001b[1;33m\u001b[0m\u001b[0m\n\u001b[0m",
      "\u001b[1;31mTypeError\u001b[0m: best_attribute() missing 1 required positional argument: 'is_IG'"
     ]
    }
   ],
   "source": [
    "best_attribute(play_tennis,'play')"
   ]
  },
  {
   "cell_type": "code",
   "execution_count": 81,
   "metadata": {},
   "outputs": [],
   "source": [
    "import math\n",
    "\n",
    "class Node:\n",
    "    def __init__(self, attribute=None, label=None):\n",
    "        self.attribute = attribute\n",
    "        self.label = label\n",
    "        self.children = {}\n",
    "        self.most_common_label = None\n",
    "    \n",
    "    def set_most_common_label(self, most_common_label):\n",
    "        self.most_common_label = most_common_label\n",
    "        \n",
    "    def get_most_common_label(self):\n",
    "        return self.most_common_label\n",
    "        \n",
    "    def setAttribute(self, attribute):\n",
    "        self.attribute = attribute\n",
    "\n",
    "    def setLabel(self, label):\n",
    "        self.label = label\n",
    "  \n",
    "    def addChildren(self, attributeValue, node):\n",
    "        self.children[attributeValue] = node\n",
    "    \n",
    "    def getChildren(self):\n",
    "        return self.children\n",
    "    \n",
    "    def getLabel(self):\n",
    "        return self.label"
   ]
  },
  {
   "cell_type": "code",
   "execution_count": 82,
   "metadata": {},
   "outputs": [],
   "source": [
    "def get_most_common_label(data, target_attribute):\n",
    "    parsed_value_target = {}\n",
    "  \n",
    "    for i in data[target_attribute]:\n",
    "        if i is not None:\n",
    "            if i not in parsed_value_target:\n",
    "                parsed_value_target[i] = 1\n",
    "            else:\n",
    "                parsed_value_target[i] += 1\n",
    "\n",
    "    most_common = {\n",
    "        'value': 0,\n",
    "        'name': ''\n",
    "    }\n",
    "    \n",
    "    for i in parsed_value_target:\n",
    "        if parsed_value_target[i] > most_common['value']:\n",
    "            most_common['value'] = parsed_value_target[i]\n",
    "            most_common['name'] = i\n",
    "    \n",
    "    return most_common['name']"
   ]
  },
  {
   "cell_type": "code",
   "execution_count": 83,
   "metadata": {},
   "outputs": [],
   "source": [
    "def most_common_label_target(data,target_attribute):\n",
    "    most_comm = None\n",
    "    occ = 0;\n",
    "    for i in data[target_attribute].unique():\n",
    "        if data[data[target_attribute] == i].shape[0] >  occ:\n",
    "            most_comm = i\n",
    "            occ = data[data[target_attribute] == i].shape[0]\n",
    "    return most_comm"
   ]
  },
  {
   "cell_type": "code",
   "execution_count": 84,
   "metadata": {},
   "outputs": [],
   "source": [
    "def id3(data, target_attribute, is_IG):\n",
    "    node = Node()\n",
    "    if data[target_attribute].nunique()==1:\n",
    "        node.setLabel(data[target_attribute].unique()[0])\n",
    "        return node\n",
    "     \n",
    "    elif len(play_tennis.columns)==1:\n",
    "        node.setLabel(get_most_common_label(data, target_attribute))\n",
    "        return node\n",
    "    \n",
    "    else:\n",
    "        best_attribute_ = best_attribute(data,target_attribute,is_IG)\n",
    "        node.setAttribute(best_attribute_)\n",
    "        for i in data[best_attribute_].unique():\n",
    "            node.addChildren(i,id3(data.loc[data[best_attribute_]==i],target_attribute,is_IG))\n",
    "            node.set_most_common_label(most_common_label_target(data,target_attribute))        \n",
    "            \n",
    "    return node"
   ]
  },
  {
   "cell_type": "code",
   "execution_count": 85,
   "metadata": {
    "scrolled": false
   },
   "outputs": [
    {
     "data": {
      "text/plain": [
       "<__main__.Node at 0x19392da8da0>"
      ]
     },
     "execution_count": 85,
     "metadata": {},
     "output_type": "execute_result"
    }
   ],
   "source": [
    "id3(play_tennis,\"play\",False)"
   ]
  },
  {
   "cell_type": "code",
   "execution_count": 86,
   "metadata": {},
   "outputs": [],
   "source": [
    "def print_tree(node,depth):\n",
    "    if node.label is not None: \n",
    "        print(\"    \"*(depth+1) +str(node.label))\n",
    "    else:\n",
    "        print(\"    \"*depth + \"[\"+ node.attribute +\"]\")\n",
    "        for i in node.children:\n",
    "            print(\"----\"*(depth+1) +str(i))\n",
    "            print_tree(node.children[i],depth+1)        "
   ]
  },
  {
   "cell_type": "code",
   "execution_count": 88,
   "metadata": {
    "scrolled": true
   },
   "outputs": [
    {
     "name": "stdout",
     "output_type": "stream",
     "text": [
      "[outlook]\n",
      "----Sunny\n",
      "    [humidity]\n",
      "--------High\n",
      "            No\n",
      "--------Normal\n",
      "            Yes\n",
      "----Overcast\n",
      "        Yes\n",
      "----Rain\n",
      "    [wind]\n",
      "--------Weak\n",
      "            Yes\n",
      "--------Strong\n",
      "            No\n"
     ]
    }
   ],
   "source": [
    "print_tree(id3(play_tennis, \"play\",False),0)"
   ]
  },
  {
   "cell_type": "code",
   "execution_count": 89,
   "metadata": {},
   "outputs": [
    {
     "name": "stdout",
     "output_type": "stream",
     "text": [
      "[outlook]\n",
      "----Sunny\n",
      "    [humidity]\n",
      "--------High\n",
      "            No\n",
      "--------Normal\n",
      "            Yes\n",
      "----Overcast\n",
      "        Yes\n",
      "----Rain\n",
      "    [wind]\n",
      "--------Weak\n",
      "            Yes\n",
      "--------Strong\n",
      "            No\n"
     ]
    }
   ],
   "source": [
    "print_tree(id3(play_tennis, \"play\",True),0)"
   ]
  },
  {
   "cell_type": "code",
   "execution_count": 41,
   "metadata": {},
   "outputs": [
    {
     "name": "stdout",
     "output_type": "stream",
     "text": [
      "No\n"
     ]
    }
   ],
   "source": [
    "print(id3(play_tennis, \"play\").children['Sunny'].children['High'].label)"
   ]
  },
  {
   "cell_type": "code",
   "execution_count": 42,
   "metadata": {},
   "outputs": [],
   "source": [
    "test=play_tennis[0:3]"
   ]
  },
  {
   "cell_type": "code",
   "execution_count": 43,
   "metadata": {},
   "outputs": [],
   "source": [
    "test_X = test.drop('play',axis=1)"
   ]
  },
  {
   "cell_type": "code",
   "execution_count": 44,
   "metadata": {},
   "outputs": [],
   "source": [
    "def check_tree(node,data,index,result, target_attribute):\n",
    "    if node.label is not None: \n",
    "        result.append(node.getLabel())\n",
    "    else:\n",
    "        if data.loc[index, node.attribute] is None:\n",
    "            result.append(node.get_most_common_label())\n",
    "        for i in node.children:\n",
    "            if i==data.loc[index,node.attribute]:\n",
    "                check_tree(node.children[i],data,index,result, target_attribute)"
   ]
  },
  {
   "cell_type": "code",
   "execution_count": 247,
   "metadata": {},
   "outputs": [],
   "source": [
    "def pred(data,model,target_attribute):\n",
    "    result = []\n",
    "    for i in range(len(data)):\n",
    "        check_tree(model,data[i:i+1],i,result, target_attribute)\n",
    "    data = {target_attribute:result}\n",
    "    return pd.DataFrame(data)\n",
    "    "
   ]
  },
  {
   "cell_type": "code",
   "execution_count": 248,
   "metadata": {},
   "outputs": [],
   "source": [
    "test_X['humidity'] = None"
   ]
  },
  {
   "cell_type": "code",
   "execution_count": 249,
   "metadata": {
    "scrolled": true
   },
   "outputs": [
    {
     "data": {
      "text/html": [
       "<div>\n",
       "<style scoped>\n",
       "    .dataframe tbody tr th:only-of-type {\n",
       "        vertical-align: middle;\n",
       "    }\n",
       "\n",
       "    .dataframe tbody tr th {\n",
       "        vertical-align: top;\n",
       "    }\n",
       "\n",
       "    .dataframe thead th {\n",
       "        text-align: right;\n",
       "    }\n",
       "</style>\n",
       "<table border=\"1\" class=\"dataframe\">\n",
       "  <thead>\n",
       "    <tr style=\"text-align: right;\">\n",
       "      <th></th>\n",
       "      <th>outlook</th>\n",
       "      <th>temp</th>\n",
       "      <th>humidity</th>\n",
       "      <th>wind</th>\n",
       "    </tr>\n",
       "  </thead>\n",
       "  <tbody>\n",
       "    <tr>\n",
       "      <th>0</th>\n",
       "      <td>Sunny</td>\n",
       "      <td>Hot</td>\n",
       "      <td>None</td>\n",
       "      <td>Weak</td>\n",
       "    </tr>\n",
       "    <tr>\n",
       "      <th>1</th>\n",
       "      <td>Sunny</td>\n",
       "      <td>Hot</td>\n",
       "      <td>None</td>\n",
       "      <td>Strong</td>\n",
       "    </tr>\n",
       "    <tr>\n",
       "      <th>2</th>\n",
       "      <td>Overcast</td>\n",
       "      <td>Hot</td>\n",
       "      <td>None</td>\n",
       "      <td>Weak</td>\n",
       "    </tr>\n",
       "  </tbody>\n",
       "</table>\n",
       "</div>"
      ],
      "text/plain": [
       "    outlook temp humidity    wind\n",
       "0     Sunny  Hot     None    Weak\n",
       "1     Sunny  Hot     None  Strong\n",
       "2  Overcast  Hot     None    Weak"
      ]
     },
     "execution_count": 249,
     "metadata": {},
     "output_type": "execute_result"
    }
   ],
   "source": [
    "test_X"
   ]
  },
  {
   "cell_type": "code",
   "execution_count": 252,
   "metadata": {
    "scrolled": true
   },
   "outputs": [],
   "source": [
    "model=id3(play_tennis, \"play\",True)\n",
    "res = pred(test_X,model, \"play\")"
   ]
  },
  {
   "cell_type": "code",
   "execution_count": 253,
   "metadata": {},
   "outputs": [
    {
     "data": {
      "text/html": [
       "<div>\n",
       "<style scoped>\n",
       "    .dataframe tbody tr th:only-of-type {\n",
       "        vertical-align: middle;\n",
       "    }\n",
       "\n",
       "    .dataframe tbody tr th {\n",
       "        vertical-align: top;\n",
       "    }\n",
       "\n",
       "    .dataframe thead th {\n",
       "        text-align: right;\n",
       "    }\n",
       "</style>\n",
       "<table border=\"1\" class=\"dataframe\">\n",
       "  <thead>\n",
       "    <tr style=\"text-align: right;\">\n",
       "      <th></th>\n",
       "      <th>play</th>\n",
       "    </tr>\n",
       "  </thead>\n",
       "  <tbody>\n",
       "    <tr>\n",
       "      <th>0</th>\n",
       "      <td>No</td>\n",
       "    </tr>\n",
       "    <tr>\n",
       "      <th>1</th>\n",
       "      <td>No</td>\n",
       "    </tr>\n",
       "    <tr>\n",
       "      <th>2</th>\n",
       "      <td>Yes</td>\n",
       "    </tr>\n",
       "  </tbody>\n",
       "</table>\n",
       "</div>"
      ],
      "text/plain": [
       "  play\n",
       "0   No\n",
       "1   No\n",
       "2  Yes"
      ]
     },
     "execution_count": 253,
     "metadata": {},
     "output_type": "execute_result"
    }
   ],
   "source": [
    "res"
   ]
  },
  {
   "cell_type": "code",
   "execution_count": 34,
   "metadata": {},
   "outputs": [],
   "source": [
    "def accuracy(pred,data,target_attribute):\n",
    "    cnt = 0\n",
    "    for i in range(len(pred)):\n",
    "        if pred.loc[i] == data.loc[i]:\n",
    "            cnt+=1\n",
    "    return cnt*100/len(pred)"
   ]
  },
  {
   "cell_type": "code",
   "execution_count": 259,
   "metadata": {},
   "outputs": [],
   "source": [
    "# hasn't handle after universal entropy\n",
    "def information_gain_continous(data, gain_attribute, target_attribute):\n",
    "    gain_result = 0\n",
    "    save_boundary = -1\n",
    "    min_entropy = 999999 \n",
    "    data = data.sort_values(gain_attribute)\n",
    "    data=data.reset_index().drop('index',axis=1)\n",
    "    length_data = len(data)\n",
    "    for i in range(length_data):\n",
    "        if (i!=length_data-1):\n",
    "            if (data.loc[i,target_attribute] != data.loc[i+1,target_attribute]):\n",
    "                temp_boundary = (data.loc[i,gain_attribute] + data.loc[i+1,gain_attribute])/2\n",
    "                parsed_data_upper = data.loc[data[gain_attribute]>=temp_boundary]\n",
    "                parsed_data_lower = data.loc[data[gain_attribute]<temp_boundary]\n",
    "                len_parsed = len(parsed_data_upper)               \n",
    "                temp_entropy = float(len_parsed)/length_data * entropy(parsed_data_upper, target_attribute) + float((length_data-len_parsed))/length_data * entropy(parsed_data_lower, target_attribute)     \n",
    "                if temp_entropy < min_entropy:\n",
    "                    #print(gain_attribute, temp_boundary, temp_entropy)\n",
    "                    min_entropy = temp_entropy \n",
    "                    save_boundary = temp_boundary\n",
    "\n",
    "    gain_result += entropy(data,target_attribute) + (-1 * min_entropy)\n",
    "    return gain_result,save_boundary"
   ]
  },
  {
   "cell_type": "code",
   "execution_count": 255,
   "metadata": {},
   "outputs": [
    {
     "name": "stdout",
     "output_type": "stream",
     "text": [
      "2.45 0.6666666666666666\n"
     ]
    },
    {
     "data": {
      "text/plain": [
       "(0.9182958340544894, 2.45)"
      ]
     },
     "execution_count": 255,
     "metadata": {},
     "output_type": "execute_result"
    }
   ],
   "source": [
    "information_gain_continous(iris, 'petal length (cm)', 'target')"
   ]
  },
  {
   "cell_type": "code",
   "execution_count": 102,
   "metadata": {},
   "outputs": [],
   "source": [
    "def best_attribute_c45(data,target_attribute,is_IG):\n",
    "    gain_attribute = {\n",
    "        'value': 0,\n",
    "        'name': '',\n",
    "        'boundary': ''\n",
    "    }\n",
    "    \n",
    "    \n",
    "    for i in data.columns:\n",
    "        if (i != target_attribute):\n",
    "            if is_IG:\n",
    "                if data[i].dtypes in [pd.np.dtype('float64'), pd.np.dtype('float32')]:\n",
    "                    ig = information_gain_continous(data, i, target_attribute) \n",
    "                    if ig[0] > gain_attribute['value']:\n",
    "                            gain_attribute['value'] = ig[0]\n",
    "                            gain_attribute['name'] = i\n",
    "                            gain_attribute['boundary'] = ig[1]\n",
    "                else:\n",
    "                    if information_gain(data, i, target_attribute) > gain_attribute['value']:\n",
    "                            gain_attribute['value'] = information_gain(data, i, target_attribute)\n",
    "                            gain_attribute['name'] = i\n",
    "            else:\n",
    "                if data[i].dtypes in [pd.np.dtype('float64'), pd.np.dtype('float32')]:\n",
    "                    ig = gain_ratio_continous(data, i, target_attribute) \n",
    "                    if ig[0] > gain_attribute['value']:\n",
    "                            gain_attribute['value'] = ig[0]\n",
    "                            gain_attribute['name'] = i\n",
    "                            gain_attribute['boundary'] = ig[1]\n",
    "                else:\n",
    "                    if gain_ratio(data, i, target_attribute) > gain_attribute['value']:\n",
    "                            gain_attribute['value'] = gain_ratio(data, i, target_attribute)\n",
    "                            gain_attribute['name'] = i\n",
    "\n",
    "    return gain_attribute['name'],round(gain_attribute['boundary'],2)"
   ]
  },
  {
   "cell_type": "code",
   "execution_count": 103,
   "metadata": {},
   "outputs": [
    {
     "data": {
      "text/plain": [
       "('petal width (cm)', 0.8)"
      ]
     },
     "execution_count": 103,
     "metadata": {},
     "output_type": "execute_result"
    }
   ],
   "source": [
    "best_attribute_c45(iris,'target',False)"
   ]
  },
  {
   "cell_type": "code",
   "execution_count": 257,
   "metadata": {},
   "outputs": [],
   "source": [
    "def c45(data, target_attribute,is_IG):\n",
    "    node = Node()\n",
    "    if data[target_attribute].nunique()==1:\n",
    "        node.setLabel(data[target_attribute].unique()[0])\n",
    "        return node\n",
    "     \n",
    "    elif len(play_tennis.columns)==1:\n",
    "        node.setLabel(get_most_common_label(data, target_attribute))\n",
    "        return node\n",
    "    \n",
    "    else:\n",
    "        best_attribute_,bound  = best_attribute_c45(data,target_attribute,is_IG)\n",
    "        #print(best_attribute_)\n",
    "        node.setAttribute(best_attribute_)\n",
    "        node.set_most_common_label(most_common_label_target(data,target_attribute))\n",
    "        if bound=='':\n",
    "            for i in data[best_attribute_].unique():\n",
    "                node.addChildren(i,c45(data.loc[data[best_attribute_]==i],target_attribute,is_IG))\n",
    "        else:\n",
    "            node.addChildren('>='+str(bound),c45(data.loc[data[best_attribute_]>=bound],target_attribute,is_IG))\n",
    "            node.addChildren('<'+str(bound),c45(data.loc[data[best_attribute_]<bound],target_attribute,is_IG))\n",
    "    return node"
   ]
  },
  {
   "cell_type": "code",
   "execution_count": 260,
   "metadata": {},
   "outputs": [
    {
     "name": "stdout",
     "output_type": "stream",
     "text": [
      "sepal length (cm) 4.85 1.3966439729423834\n",
      "sepal length (cm) 5.1 1.3233140033627078\n",
      "sepal length (cm) 5.2 1.205112148593526\n",
      "sepal length (cm) 5.25 1.1605394811881526\n",
      "sepal length (cm) 5.35 1.1397957583334046\n",
      "sepal length (cm) 5.5 1.0338390111422786\n",
      "sepal length (cm) 5.6 1.0277298129142296\n",
      "sepal width (cm) 2.2 1.5743313880649628\n",
      "sepal width (cm) 2.25 1.5638682014339247\n",
      "sepal width (cm) 2.5 1.5277068999197676\n",
      "sepal width (cm) 2.55 1.5157982194787427\n",
      "sepal width (cm) 2.7 1.4940065500503135\n",
      "sepal width (cm) 2.75 1.4524823112716707\n",
      "sepal width (cm) 2.9 1.3862656802795268\n",
      "sepal width (cm) 2.95 1.336296325775044\n",
      "sepal width (cm) 3.05 1.3243314053930995\n",
      "sepal width (cm) 3.25 1.3210596397713652\n",
      "sepal width (cm) 3.3499999999999996 1.3018365115523247\n",
      "petal length (cm) 2.45 0.6666666666666666\n",
      "petal width (cm) 0.8 0.6666666666666666\n",
      "sepal length (cm) 4.9 1.0\n",
      "sepal length (cm) 5.6 0.9214431574645288\n",
      "sepal length (cm) 5.7 0.8932597776751746\n",
      "sepal length (cm) 5.8 0.8594091277095426\n",
      "sepal length (cm) 6.15 0.8395000263554215\n",
      "sepal width (cm) 2.2 0.9899271353749991\n",
      "sepal width (cm) 2.5 0.941763200545769\n",
      "petal length (cm) 4.5 0.6220057011774223\n",
      "petal length (cm) 4.75 0.34262624992678425\n",
      "petal width (cm) 1.35 0.6393429500508973\n",
      "petal width (cm) 1.45 0.5686825316307644\n",
      "petal width (cm) 1.6 0.39937472037667693\n",
      "petal width (cm) 1.65 0.32339015364714196\n",
      "petal width (cm) 1.75 0.30983962924532515\n",
      "sepal length (cm) 5.85 0.14744583464884647\n",
      "sepal width (cm) 3.1500000000000004 0.11298375158635346\n",
      "petal length (cm) 4.8 0.15109697051711368\n",
      "petal width (cm) 1.8 0.15109697051711368\n",
      "sepal length (cm) 6.050000000000001 -0.0\n",
      "sepal width (cm) 3.2 0.37123232664087563\n",
      "petal length (cm) 4.949999999999999 -0.0\n",
      "petal width (cm) 1.8 0.37123232664087563\n",
      "sepal length (cm) 4.9 0.44506485705083865\n",
      "sepal length (cm) 6.0 0.42003455051121197\n",
      "sepal length (cm) 7.1 0.3788704024111917\n",
      "sepal width (cm) 2.2 0.4424433996814305\n",
      "sepal width (cm) 2.25 0.43248281496204033\n",
      "sepal width (cm) 2.8499999999999996 0.4283806007938933\n",
      "petal length (cm) 4.5 0.3342259698552603\n",
      "petal length (cm) 4.95 0.23189442611284222\n",
      "petal width (cm) 1.4 0.3400578947940299\n",
      "sepal length (cm) 6.0 0.9182958340544896\n",
      "sepal length (cm) 6.5 0.8741854163060885\n",
      "sepal length (cm) 6.95 0.8091254953788906\n",
      "sepal width (cm) 2.6500000000000004 0.6666666666666666\n",
      "petal length (cm) 5.0 0.9182958340544896\n",
      "petal length (cm) 5.05 0.8741854163060885\n",
      "petal width (cm) 1.55 0.4591479170272448\n",
      "sepal length (cm) 6.95 -0.0\n",
      "sepal width (cm) 3.0 0.6666666666666666\n",
      "petal length (cm) 5.449999999999999 -0.0\n",
      "petal width (cm) 1.6 0.9182958340544896\n",
      "petal width (cm) 1.65 0.6666666666666666\n",
      "sepal length (cm) 4.9 0.14609425012013633\n",
      "sepal width (cm) 2.5 0.13978002134940495\n",
      "petal length (cm) 4.5 0.11774943186388549\n",
      "petal width (cm) 1.65 -0.0\n"
     ]
    },
    {
     "data": {
      "text/plain": [
       "<__main__.Node at 0x19393076d30>"
      ]
     },
     "execution_count": 260,
     "metadata": {},
     "output_type": "execute_result"
    }
   ],
   "source": [
    "c45(iris, \"target\",True)"
   ]
  },
  {
   "cell_type": "code",
   "execution_count": 121,
   "metadata": {
    "scrolled": true
   },
   "outputs": [
    {
     "name": "stdout",
     "output_type": "stream",
     "text": [
      "[petal length (cm)]\n",
      "---->=2.45\n",
      "    [petal width (cm)]\n",
      "-------->=1.75\n",
      "        [sepal width (cm)]\n",
      "------------>=3.15\n",
      "            [sepal length (cm)]\n",
      "---------------->=6.05\n",
      "                    2\n",
      "----------------<6.05\n",
      "                    1\n",
      "------------<3.15\n",
      "                2\n",
      "--------<1.75\n",
      "        [petal length (cm)]\n",
      "------------>=4.95\n",
      "            [petal width (cm)]\n",
      "---------------->=1.55\n",
      "                [sepal length (cm)]\n",
      "-------------------->=6.95\n",
      "                        2\n",
      "--------------------<6.95\n",
      "                        1\n",
      "----------------<1.55\n",
      "                    2\n",
      "------------<4.95\n",
      "            [petal width (cm)]\n",
      "---------------->=1.65\n",
      "                    2\n",
      "----------------<1.65\n",
      "                    1\n",
      "----<2.45\n",
      "        0\n"
     ]
    }
   ],
   "source": [
    "print_tree(c45(iris, \"target\",True),0)"
   ]
  },
  {
   "cell_type": "code",
   "execution_count": 202,
   "metadata": {},
   "outputs": [],
   "source": [
    "def check_tree_c45(node,data,index,result, target_attribute):\n",
    "    if node.label is not None: \n",
    "        result.append(node.getLabel())\n",
    "    else:\n",
    "        if data.loc[index, node.attribute] is None:\n",
    "            result.append(node.get_most_common_label())\n",
    "        for i in node.children:\n",
    "            #print(i)\n",
    "            if i[0]=='<':\n",
    "                #print(i,2)\n",
    "                bound=float(i[1:])\n",
    "                if bound>data.loc[index,node.attribute]:\n",
    "                    #print(data.loc[index,node.attribute])\n",
    "                    check_tree_c45(node.children[i],data,index,result, target_attribute)\n",
    "            else:\n",
    "                bound=float(i[2:])\n",
    "                #print(i,1)\n",
    "                if bound<=data.loc[index,node.attribute]:\n",
    "                    #print(data.loc[index,node.attribute])\n",
    "                    check_tree_c45(node.children[i],data,index,result, target_attribute)"
   ]
  },
  {
   "cell_type": "code",
   "execution_count": 240,
   "metadata": {},
   "outputs": [],
   "source": [
    "def pred_c45(data,model,target_attribute):\n",
    "    result = []\n",
    "    for i in range(len(data)):\n",
    "        check_tree_c45(model,data[i:i+1],i,result, target_attribute)\n",
    "    data = {target_attribute:result}\n",
    "    return pd.DataFrame(data)\n",
    "    "
   ]
  },
  {
   "cell_type": "code",
   "execution_count": 241,
   "metadata": {},
   "outputs": [],
   "source": [
    "p=iris"
   ]
  },
  {
   "cell_type": "code",
   "execution_count": 242,
   "metadata": {},
   "outputs": [],
   "source": [
    "p=p.drop('target',axis=1)"
   ]
  },
  {
   "cell_type": "code",
   "execution_count": 243,
   "metadata": {},
   "outputs": [],
   "source": [
    "p=p.reset_index().drop('index',axis=1)"
   ]
  },
  {
   "cell_type": "code",
   "execution_count": 244,
   "metadata": {},
   "outputs": [],
   "source": [
    "model=c45(iris, \"target\",True)\n",
    "res = pred_c45(p,model, \"target\")"
   ]
  },
  {
   "cell_type": "code",
   "execution_count": 245,
   "metadata": {},
   "outputs": [
    {
     "data": {
      "text/plain": [
       "2    50\n",
       "1    50\n",
       "0    50\n",
       "Name: target, dtype: int64"
      ]
     },
     "execution_count": 245,
     "metadata": {},
     "output_type": "execute_result"
    }
   ],
   "source": [
    "iris['target'].value_counts()"
   ]
  },
  {
   "cell_type": "code",
   "execution_count": 246,
   "metadata": {},
   "outputs": [
    {
     "data": {
      "text/html": [
       "<div>\n",
       "<style scoped>\n",
       "    .dataframe tbody tr th:only-of-type {\n",
       "        vertical-align: middle;\n",
       "    }\n",
       "\n",
       "    .dataframe tbody tr th {\n",
       "        vertical-align: top;\n",
       "    }\n",
       "\n",
       "    .dataframe thead th {\n",
       "        text-align: right;\n",
       "    }\n",
       "</style>\n",
       "<table border=\"1\" class=\"dataframe\">\n",
       "  <thead>\n",
       "    <tr style=\"text-align: right;\">\n",
       "      <th></th>\n",
       "      <th>target</th>\n",
       "    </tr>\n",
       "  </thead>\n",
       "  <tbody>\n",
       "    <tr>\n",
       "      <th>0</th>\n",
       "      <td>0</td>\n",
       "    </tr>\n",
       "    <tr>\n",
       "      <th>1</th>\n",
       "      <td>0</td>\n",
       "    </tr>\n",
       "    <tr>\n",
       "      <th>2</th>\n",
       "      <td>0</td>\n",
       "    </tr>\n",
       "    <tr>\n",
       "      <th>3</th>\n",
       "      <td>0</td>\n",
       "    </tr>\n",
       "    <tr>\n",
       "      <th>4</th>\n",
       "      <td>0</td>\n",
       "    </tr>\n",
       "    <tr>\n",
       "      <th>5</th>\n",
       "      <td>0</td>\n",
       "    </tr>\n",
       "    <tr>\n",
       "      <th>6</th>\n",
       "      <td>0</td>\n",
       "    </tr>\n",
       "    <tr>\n",
       "      <th>7</th>\n",
       "      <td>0</td>\n",
       "    </tr>\n",
       "    <tr>\n",
       "      <th>8</th>\n",
       "      <td>0</td>\n",
       "    </tr>\n",
       "    <tr>\n",
       "      <th>9</th>\n",
       "      <td>0</td>\n",
       "    </tr>\n",
       "    <tr>\n",
       "      <th>10</th>\n",
       "      <td>0</td>\n",
       "    </tr>\n",
       "    <tr>\n",
       "      <th>11</th>\n",
       "      <td>0</td>\n",
       "    </tr>\n",
       "    <tr>\n",
       "      <th>12</th>\n",
       "      <td>0</td>\n",
       "    </tr>\n",
       "    <tr>\n",
       "      <th>13</th>\n",
       "      <td>0</td>\n",
       "    </tr>\n",
       "    <tr>\n",
       "      <th>14</th>\n",
       "      <td>0</td>\n",
       "    </tr>\n",
       "    <tr>\n",
       "      <th>15</th>\n",
       "      <td>0</td>\n",
       "    </tr>\n",
       "    <tr>\n",
       "      <th>16</th>\n",
       "      <td>0</td>\n",
       "    </tr>\n",
       "    <tr>\n",
       "      <th>17</th>\n",
       "      <td>0</td>\n",
       "    </tr>\n",
       "    <tr>\n",
       "      <th>18</th>\n",
       "      <td>0</td>\n",
       "    </tr>\n",
       "    <tr>\n",
       "      <th>19</th>\n",
       "      <td>0</td>\n",
       "    </tr>\n",
       "    <tr>\n",
       "      <th>20</th>\n",
       "      <td>0</td>\n",
       "    </tr>\n",
       "    <tr>\n",
       "      <th>21</th>\n",
       "      <td>0</td>\n",
       "    </tr>\n",
       "    <tr>\n",
       "      <th>22</th>\n",
       "      <td>0</td>\n",
       "    </tr>\n",
       "    <tr>\n",
       "      <th>23</th>\n",
       "      <td>0</td>\n",
       "    </tr>\n",
       "    <tr>\n",
       "      <th>24</th>\n",
       "      <td>0</td>\n",
       "    </tr>\n",
       "    <tr>\n",
       "      <th>25</th>\n",
       "      <td>0</td>\n",
       "    </tr>\n",
       "    <tr>\n",
       "      <th>26</th>\n",
       "      <td>0</td>\n",
       "    </tr>\n",
       "    <tr>\n",
       "      <th>27</th>\n",
       "      <td>0</td>\n",
       "    </tr>\n",
       "    <tr>\n",
       "      <th>28</th>\n",
       "      <td>0</td>\n",
       "    </tr>\n",
       "    <tr>\n",
       "      <th>29</th>\n",
       "      <td>0</td>\n",
       "    </tr>\n",
       "    <tr>\n",
       "      <th>...</th>\n",
       "      <td>...</td>\n",
       "    </tr>\n",
       "    <tr>\n",
       "      <th>120</th>\n",
       "      <td>2</td>\n",
       "    </tr>\n",
       "    <tr>\n",
       "      <th>121</th>\n",
       "      <td>2</td>\n",
       "    </tr>\n",
       "    <tr>\n",
       "      <th>122</th>\n",
       "      <td>2</td>\n",
       "    </tr>\n",
       "    <tr>\n",
       "      <th>123</th>\n",
       "      <td>2</td>\n",
       "    </tr>\n",
       "    <tr>\n",
       "      <th>124</th>\n",
       "      <td>2</td>\n",
       "    </tr>\n",
       "    <tr>\n",
       "      <th>125</th>\n",
       "      <td>2</td>\n",
       "    </tr>\n",
       "    <tr>\n",
       "      <th>126</th>\n",
       "      <td>2</td>\n",
       "    </tr>\n",
       "    <tr>\n",
       "      <th>127</th>\n",
       "      <td>2</td>\n",
       "    </tr>\n",
       "    <tr>\n",
       "      <th>128</th>\n",
       "      <td>2</td>\n",
       "    </tr>\n",
       "    <tr>\n",
       "      <th>129</th>\n",
       "      <td>2</td>\n",
       "    </tr>\n",
       "    <tr>\n",
       "      <th>130</th>\n",
       "      <td>2</td>\n",
       "    </tr>\n",
       "    <tr>\n",
       "      <th>131</th>\n",
       "      <td>2</td>\n",
       "    </tr>\n",
       "    <tr>\n",
       "      <th>132</th>\n",
       "      <td>2</td>\n",
       "    </tr>\n",
       "    <tr>\n",
       "      <th>133</th>\n",
       "      <td>2</td>\n",
       "    </tr>\n",
       "    <tr>\n",
       "      <th>134</th>\n",
       "      <td>2</td>\n",
       "    </tr>\n",
       "    <tr>\n",
       "      <th>135</th>\n",
       "      <td>2</td>\n",
       "    </tr>\n",
       "    <tr>\n",
       "      <th>136</th>\n",
       "      <td>2</td>\n",
       "    </tr>\n",
       "    <tr>\n",
       "      <th>137</th>\n",
       "      <td>2</td>\n",
       "    </tr>\n",
       "    <tr>\n",
       "      <th>138</th>\n",
       "      <td>2</td>\n",
       "    </tr>\n",
       "    <tr>\n",
       "      <th>139</th>\n",
       "      <td>2</td>\n",
       "    </tr>\n",
       "    <tr>\n",
       "      <th>140</th>\n",
       "      <td>2</td>\n",
       "    </tr>\n",
       "    <tr>\n",
       "      <th>141</th>\n",
       "      <td>2</td>\n",
       "    </tr>\n",
       "    <tr>\n",
       "      <th>142</th>\n",
       "      <td>2</td>\n",
       "    </tr>\n",
       "    <tr>\n",
       "      <th>143</th>\n",
       "      <td>2</td>\n",
       "    </tr>\n",
       "    <tr>\n",
       "      <th>144</th>\n",
       "      <td>2</td>\n",
       "    </tr>\n",
       "    <tr>\n",
       "      <th>145</th>\n",
       "      <td>2</td>\n",
       "    </tr>\n",
       "    <tr>\n",
       "      <th>146</th>\n",
       "      <td>2</td>\n",
       "    </tr>\n",
       "    <tr>\n",
       "      <th>147</th>\n",
       "      <td>2</td>\n",
       "    </tr>\n",
       "    <tr>\n",
       "      <th>148</th>\n",
       "      <td>2</td>\n",
       "    </tr>\n",
       "    <tr>\n",
       "      <th>149</th>\n",
       "      <td>2</td>\n",
       "    </tr>\n",
       "  </tbody>\n",
       "</table>\n",
       "<p>150 rows × 1 columns</p>\n",
       "</div>"
      ],
      "text/plain": [
       "     target\n",
       "0         0\n",
       "1         0\n",
       "2         0\n",
       "3         0\n",
       "4         0\n",
       "5         0\n",
       "6         0\n",
       "7         0\n",
       "8         0\n",
       "9         0\n",
       "10        0\n",
       "11        0\n",
       "12        0\n",
       "13        0\n",
       "14        0\n",
       "15        0\n",
       "16        0\n",
       "17        0\n",
       "18        0\n",
       "19        0\n",
       "20        0\n",
       "21        0\n",
       "22        0\n",
       "23        0\n",
       "24        0\n",
       "25        0\n",
       "26        0\n",
       "27        0\n",
       "28        0\n",
       "29        0\n",
       "..      ...\n",
       "120       2\n",
       "121       2\n",
       "122       2\n",
       "123       2\n",
       "124       2\n",
       "125       2\n",
       "126       2\n",
       "127       2\n",
       "128       2\n",
       "129       2\n",
       "130       2\n",
       "131       2\n",
       "132       2\n",
       "133       2\n",
       "134       2\n",
       "135       2\n",
       "136       2\n",
       "137       2\n",
       "138       2\n",
       "139       2\n",
       "140       2\n",
       "141       2\n",
       "142       2\n",
       "143       2\n",
       "144       2\n",
       "145       2\n",
       "146       2\n",
       "147       2\n",
       "148       2\n",
       "149       2\n",
       "\n",
       "[150 rows x 1 columns]"
      ]
     },
     "execution_count": 246,
     "metadata": {},
     "output_type": "execute_result"
    }
   ],
   "source": [
    "res"
   ]
  },
  {
   "cell_type": "code",
   "execution_count": null,
   "metadata": {},
   "outputs": [],
   "source": []
  }
 ],
 "metadata": {
  "kernelspec": {
   "display_name": "Python 3",
   "language": "python",
   "name": "python3"
  },
  "language_info": {
   "codemirror_mode": {
    "name": "ipython",
    "version": 3
   },
   "file_extension": ".py",
   "mimetype": "text/x-python",
   "name": "python",
   "nbconvert_exporter": "python",
   "pygments_lexer": "ipython3",
   "version": "3.6.5"
  }
 },
 "nbformat": 4,
 "nbformat_minor": 2
}
