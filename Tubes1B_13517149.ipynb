{
 "cells": [
  {
   "cell_type": "code",
   "execution_count": 299,
   "metadata": {},
   "outputs": [],
   "source": [
    "# import needed library\n",
    "from sklearn.datasets import load_iris\n",
    "import pandas as pd\n",
    "from sklearn.preprocessing import LabelEncoder\n",
    "import math"
   ]
  },
  {
   "cell_type": "code",
   "execution_count": 300,
   "metadata": {},
   "outputs": [],
   "source": [
    "#load iris dataset\n",
    "data_iris = load_iris()\n",
    "iris_X, iris_y = load_iris(return_X_y=True)\n",
    "feature_iris = data_iris['feature_names']\n",
    "\n",
    "#load play tennis dataset\n",
    "play_tennis =  pd.read_csv('play_tennis.csv')\n",
    "play_tennis = play_tennis.drop('day',axis=1)"
   ]
  },
  {
   "cell_type": "code",
   "execution_count": 301,
   "metadata": {},
   "outputs": [],
   "source": [
    "#transform iris into dataframe\n",
    "iris_X=pd.DataFrame(iris_X)\n",
    "iris_y=pd.DataFrame(iris_y)"
   ]
  },
  {
   "cell_type": "code",
   "execution_count": 302,
   "metadata": {},
   "outputs": [],
   "source": [
    "#create index so be merge\n",
    "iris_X=iris_X.reset_index()\n",
    "iris_y=iris_y.reset_index()"
   ]
  },
  {
   "cell_type": "code",
   "execution_count": 303,
   "metadata": {},
   "outputs": [],
   "source": [
    "iris_y.rename(columns = {0:4}, inplace = True) "
   ]
  },
  {
   "cell_type": "code",
   "execution_count": 304,
   "metadata": {},
   "outputs": [],
   "source": [
    "#merge dataset iris\n",
    "iris=iris_X.merge(iris_y)"
   ]
  },
  {
   "cell_type": "code",
   "execution_count": 305,
   "metadata": {},
   "outputs": [],
   "source": [
    "#drop index\n",
    "iris.drop(\"index\",axis=1,inplace=True)"
   ]
  },
  {
   "cell_type": "code",
   "execution_count": 306,
   "metadata": {},
   "outputs": [],
   "source": [
    "iris.rename(columns = {0:feature_iris[0],1:feature_iris[1],2:feature_iris[2],3:feature_iris[3],4:\"target\"}, inplace = True)"
   ]
  },
  {
   "cell_type": "code",
   "execution_count": 307,
   "metadata": {},
   "outputs": [],
   "source": [
    "def entropy(parsed_data, target_attribute):\n",
    "    parsed_value_target = {}\n",
    "    total_value_target = 0\n",
    "  \n",
    "    for i in parsed_data[target_attribute]:\n",
    "        if i is not None:\n",
    "            if i not in parsed_value_target:\n",
    "                parsed_value_target[i] = 1\n",
    "            else:\n",
    "                parsed_value_target[i] += 1\n",
    "\n",
    "            total_value_target += 1\n",
    "  \n",
    "    log_result = 0\n",
    "\n",
    "    for i in parsed_value_target:\n",
    "        log_result += float(parsed_value_target[i])/total_value_target * math.log((float(parsed_value_target[i])/total_value_target), 2)\n",
    "  \n",
    "    return -1 * log_result"
   ]
  },
  {
   "cell_type": "code",
   "execution_count": 308,
   "metadata": {},
   "outputs": [],
   "source": [
    "# hasn't handle after universal entropy\n",
    "def information_gain(data, gain_attribute, target_attribute):\n",
    "    gain_result = 0\n",
    "    attribute_entropy_result = 0\n",
    "    parsed_attribute_count = {}\n",
    "    total_attribute_count = 0\n",
    "    \n",
    "    for i in data[gain_attribute]:\n",
    "        if i is not None:\n",
    "            if i not in parsed_attribute_count:\n",
    "                parsed_attribute_count[i] = 1\n",
    "            else:\n",
    "                parsed_attribute_count[i] += 1\n",
    "            \n",
    "            total_attribute_count += 1\n",
    "    \n",
    "    for i in parsed_attribute_count:\n",
    "        parsed_data = data.loc[data[gain_attribute]==i]\n",
    "        attribute_entropy_result += float(parsed_attribute_count[i])/total_attribute_count * entropy(parsed_data, target_attribute)    \n",
    "\n",
    "    gain_result += entropy(data,target_attribute) + (-1 * attribute_entropy_result)\n",
    "    return gain_result"
   ]
  },
  {
   "cell_type": "code",
   "execution_count": 309,
   "metadata": {},
   "outputs": [],
   "source": [
    "def split_information(data, gain_attribute):\n",
    "    res = entropy(data, gain_attribute)\n",
    "    if(res==0):\n",
    "        res=0.00000001\n",
    "    return res"
   ]
  },
  {
   "cell_type": "code",
   "execution_count": 310,
   "metadata": {},
   "outputs": [],
   "source": [
    "def gain_ratio(data, gain_attribute, target_attribute):\n",
    "    res = information_gain(data, gain_attribute, target_attribute) / split_information(data, gain_attribute)\n",
    "    return res"
   ]
  },
  {
   "cell_type": "code",
   "execution_count": 311,
   "metadata": {},
   "outputs": [],
   "source": [
    "def gain_ratio_continous(data, gain_attribute, target_attribute):\n",
    "    res = information_gain_continous(data, gain_attribute, target_attribute)[0] / split_information(data, gain_attribute)\n",
    "    return res,information_gain_continous(data, gain_attribute, target_attribute)[1]"
   ]
  },
  {
   "cell_type": "code",
   "execution_count": 312,
   "metadata": {},
   "outputs": [],
   "source": [
    "def best_attribute(data,target_attribute,is_IG):\n",
    "    gain_attribute = {\n",
    "        'value': 0,\n",
    "        'name': ''\n",
    "    }\n",
    "    \n",
    "    \n",
    "    for i in data.columns:\n",
    "        if (i != target_attribute):\n",
    "            if is_IG:\n",
    "                if information_gain(data, i, target_attribute) > gain_attribute['value']:\n",
    "                    gain_attribute['value'] = information_gain(data, i, target_attribute)\n",
    "                    gain_attribute['name'] = i\n",
    "            else:\n",
    "                if gain_ratio(data, i, target_attribute) > gain_attribute['value']:\n",
    "                    gain_attribute['value'] = gain_ratio(data, i, target_attribute)\n",
    "                    gain_attribute['name'] = i\n",
    "                \n",
    "\n",
    "    return gain_attribute['name']"
   ]
  },
  {
   "cell_type": "code",
   "execution_count": 313,
   "metadata": {},
   "outputs": [
    {
     "data": {
      "text/plain": [
       "0.9402859586706309"
      ]
     },
     "execution_count": 313,
     "metadata": {},
     "output_type": "execute_result"
    }
   ],
   "source": [
    "entropy(play_tennis,\"play\")"
   ]
  },
  {
   "cell_type": "code",
   "execution_count": 314,
   "metadata": {},
   "outputs": [
    {
     "data": {
      "text/plain": [
       "0.2467498197744391"
      ]
     },
     "execution_count": 314,
     "metadata": {},
     "output_type": "execute_result"
    }
   ],
   "source": [
    "information_gain(play_tennis, \"outlook\", \"play\")"
   ]
  },
  {
   "cell_type": "code",
   "execution_count": 315,
   "metadata": {},
   "outputs": [
    {
     "data": {
      "text/plain": [
       "'outlook'"
      ]
     },
     "execution_count": 315,
     "metadata": {},
     "output_type": "execute_result"
    }
   ],
   "source": [
    "best_attribute(play_tennis,'play',True)"
   ]
  },
  {
   "cell_type": "code",
   "execution_count": 316,
   "metadata": {},
   "outputs": [],
   "source": [
    "import math\n",
    "\n",
    "class Node:\n",
    "    def __init__(self, attribute=None, label=None, vertex=None):\n",
    "        self.attribute = attribute\n",
    "        self.label = label\n",
    "        self.vertex = vertex\n",
    "        self.children = {}\n",
    "        self.most_common_label = None\n",
    "    \n",
    "    def set_most_common_label(self, most_common_label):\n",
    "        self.most_common_label = most_common_label\n",
    "        \n",
    "    def get_most_common_label(self):\n",
    "        return self.most_common_label\n",
    "        \n",
    "    def setAttribute(self, attribute):\n",
    "        self.attribute = attribute\n",
    "\n",
    "    def setLabel(self, label):\n",
    "        self.label = label\n",
    "        \n",
    "    def setVertex(self, vertex):\n",
    "        self.vertex = vertex\n",
    "  \n",
    "    def addChildren(self, attributeValue, node):\n",
    "        self.children[attributeValue] = node\n",
    "    \n",
    "    def getChildren(self):\n",
    "        return self.children\n",
    "    \n",
    "    def getLabel(self):\n",
    "        return self.label\n",
    "    \n",
    "    def getVertex(self):\n",
    "        return self.vertex"
   ]
  },
  {
   "cell_type": "code",
   "execution_count": 317,
   "metadata": {},
   "outputs": [],
   "source": [
    "def get_most_common_label(data, target_attribute):\n",
    "    parsed_value_target = {}\n",
    "  \n",
    "    for i in data[target_attribute]:\n",
    "        if i is not None:\n",
    "            if i not in parsed_value_target:\n",
    "                parsed_value_target[i] = 1\n",
    "            else:\n",
    "                parsed_value_target[i] += 1\n",
    "\n",
    "    most_common = {\n",
    "        'value': 0,\n",
    "        'name': ''\n",
    "    }\n",
    "    \n",
    "    for i in parsed_value_target:\n",
    "        if parsed_value_target[i] > most_common['value']:\n",
    "            most_common['value'] = parsed_value_target[i]\n",
    "            most_common['name'] = i\n",
    "    \n",
    "    return most_common['name']"
   ]
  },
  {
   "cell_type": "code",
   "execution_count": 318,
   "metadata": {},
   "outputs": [],
   "source": [
    "def most_common_label_target(data,target_attribute):\n",
    "    most_comm = None\n",
    "    occ = 0;\n",
    "    for i in data[target_attribute].unique():\n",
    "        if data[data[target_attribute] == i].shape[0] >  occ:\n",
    "            most_comm = i\n",
    "            occ = data[data[target_attribute] == i].shape[0]\n",
    "    return most_comm"
   ]
  },
  {
   "cell_type": "code",
   "execution_count": 319,
   "metadata": {},
   "outputs": [],
   "source": [
    "def id3(data, target_attribute, is_IG):\n",
    "    node = Node()\n",
    "    if data[target_attribute].nunique()==1:\n",
    "        node.setLabel(data[target_attribute].unique()[0])\n",
    "        return node\n",
    "     \n",
    "    elif len(play_tennis.columns)==1:\n",
    "        node.setLabel(get_most_common_label(data, target_attribute))\n",
    "        return node\n",
    "    \n",
    "    else:\n",
    "        best_attribute_ = best_attribute(data,target_attribute,is_IG)\n",
    "        node.setAttribute(best_attribute_)\n",
    "        for i in data[best_attribute_].unique():\n",
    "            node.addChildren(i,id3(data.loc[data[best_attribute_]==i],target_attribute,is_IG))\n",
    "            node.set_most_common_label(most_common_label_target(data,target_attribute))        \n",
    "            \n",
    "    return node"
   ]
  },
  {
   "cell_type": "code",
   "execution_count": 320,
   "metadata": {
    "scrolled": false
   },
   "outputs": [
    {
     "data": {
      "text/plain": [
       "<__main__.Node at 0x7f8dbe7d3a20>"
      ]
     },
     "execution_count": 320,
     "metadata": {},
     "output_type": "execute_result"
    }
   ],
   "source": [
    "id3(play_tennis,\"play\",False)"
   ]
  },
  {
   "cell_type": "code",
   "execution_count": 321,
   "metadata": {},
   "outputs": [],
   "source": [
    "def print_tree(node,depth):\n",
    "    if node.label is not None: \n",
    "        print(\"    \"*(depth+1) +str(node.label))\n",
    "    else:\n",
    "        print(\"    \"*depth + \"[\"+ node.attribute +\"]\")\n",
    "        for i in node.children:\n",
    "            print(\"----\"*(depth+1) +str(i))\n",
    "            print_tree(node.children[i],depth+1)        "
   ]
  },
  {
   "cell_type": "code",
   "execution_count": 322,
   "metadata": {},
   "outputs": [
    {
     "data": {
      "text/plain": [
       "<function __main__.print_tree(node, depth)>"
      ]
     },
     "execution_count": 322,
     "metadata": {},
     "output_type": "execute_result"
    }
   ],
   "source": [
    "print_tree"
   ]
  },
  {
   "cell_type": "code",
   "execution_count": 323,
   "metadata": {},
   "outputs": [],
   "source": [
    "def copy_tree(node):\n",
    "    temp_node = Node()\n",
    "    if node.label is not None: \n",
    "        temp_node.setLabel(node.label)\n",
    "    else:\n",
    "        temp_node.setAttribute(node.attribute)\n",
    "        for i in node.children:\n",
    "            temp= Node()\n",
    "            temp= node.children[i]\n",
    "            temp_node.addChildren(i, temp)\n",
    "    return temp_node"
   ]
  },
  {
   "cell_type": "code",
   "execution_count": 324,
   "metadata": {},
   "outputs": [],
   "source": [
    "test=play_tennis[0:3]"
   ]
  },
  {
   "cell_type": "code",
   "execution_count": 325,
   "metadata": {},
   "outputs": [],
   "source": [
    "test_X = test.drop('play',axis=1)"
   ]
  },
  {
   "cell_type": "code",
   "execution_count": 326,
   "metadata": {},
   "outputs": [],
   "source": [
    "def check_tree(node,data,index,result, target_attribute):\n",
    "    if node.label is not None: \n",
    "        result.append(node.getLabel())\n",
    "    else:\n",
    "        if data.loc[index, node.attribute] is None:\n",
    "            result.append(node.get_most_common_label())\n",
    "        for i in node.children:\n",
    "            if i==data.loc[index,node.attribute]:\n",
    "                check_tree(node.children[i],data,index,result, target_attribute)"
   ]
  },
  {
   "cell_type": "code",
   "execution_count": 327,
   "metadata": {},
   "outputs": [],
   "source": [
    "def pred(data,model,target_attribute):\n",
    "    result = []\n",
    "    for i in range(len(data)):\n",
    "        check_tree(model,data[i:i+1],i,result, target_attribute)\n",
    "    data = {target_attribute:result}\n",
    "    return pd.DataFrame(data)\n",
    "    "
   ]
  },
  {
   "cell_type": "code",
   "execution_count": 328,
   "metadata": {},
   "outputs": [],
   "source": [
    "test_X['humidity'] = None"
   ]
  },
  {
   "cell_type": "code",
   "execution_count": 329,
   "metadata": {
    "scrolled": true
   },
   "outputs": [
    {
     "data": {
      "text/html": [
       "<div>\n",
       "<style scoped>\n",
       "    .dataframe tbody tr th:only-of-type {\n",
       "        vertical-align: middle;\n",
       "    }\n",
       "\n",
       "    .dataframe tbody tr th {\n",
       "        vertical-align: top;\n",
       "    }\n",
       "\n",
       "    .dataframe thead th {\n",
       "        text-align: right;\n",
       "    }\n",
       "</style>\n",
       "<table border=\"1\" class=\"dataframe\">\n",
       "  <thead>\n",
       "    <tr style=\"text-align: right;\">\n",
       "      <th></th>\n",
       "      <th>outlook</th>\n",
       "      <th>temp</th>\n",
       "      <th>humidity</th>\n",
       "      <th>wind</th>\n",
       "    </tr>\n",
       "  </thead>\n",
       "  <tbody>\n",
       "    <tr>\n",
       "      <th>0</th>\n",
       "      <td>Sunny</td>\n",
       "      <td>Hot</td>\n",
       "      <td>None</td>\n",
       "      <td>Weak</td>\n",
       "    </tr>\n",
       "    <tr>\n",
       "      <th>1</th>\n",
       "      <td>Sunny</td>\n",
       "      <td>Hot</td>\n",
       "      <td>None</td>\n",
       "      <td>Strong</td>\n",
       "    </tr>\n",
       "    <tr>\n",
       "      <th>2</th>\n",
       "      <td>Overcast</td>\n",
       "      <td>Hot</td>\n",
       "      <td>None</td>\n",
       "      <td>Weak</td>\n",
       "    </tr>\n",
       "  </tbody>\n",
       "</table>\n",
       "</div>"
      ],
      "text/plain": [
       "    outlook temp humidity    wind\n",
       "0     Sunny  Hot     None    Weak\n",
       "1     Sunny  Hot     None  Strong\n",
       "2  Overcast  Hot     None    Weak"
      ]
     },
     "execution_count": 329,
     "metadata": {},
     "output_type": "execute_result"
    }
   ],
   "source": [
    "test_X"
   ]
  },
  {
   "cell_type": "code",
   "execution_count": 330,
   "metadata": {
    "scrolled": true
   },
   "outputs": [],
   "source": [
    "model=id3(play_tennis, \"play\",True)\n",
    "res = pred(test_X,model, \"play\")"
   ]
  },
  {
   "cell_type": "code",
   "execution_count": 331,
   "metadata": {},
   "outputs": [
    {
     "data": {
      "text/html": [
       "<div>\n",
       "<style scoped>\n",
       "    .dataframe tbody tr th:only-of-type {\n",
       "        vertical-align: middle;\n",
       "    }\n",
       "\n",
       "    .dataframe tbody tr th {\n",
       "        vertical-align: top;\n",
       "    }\n",
       "\n",
       "    .dataframe thead th {\n",
       "        text-align: right;\n",
       "    }\n",
       "</style>\n",
       "<table border=\"1\" class=\"dataframe\">\n",
       "  <thead>\n",
       "    <tr style=\"text-align: right;\">\n",
       "      <th></th>\n",
       "      <th>play</th>\n",
       "    </tr>\n",
       "  </thead>\n",
       "  <tbody>\n",
       "    <tr>\n",
       "      <th>0</th>\n",
       "      <td>No</td>\n",
       "    </tr>\n",
       "    <tr>\n",
       "      <th>1</th>\n",
       "      <td>No</td>\n",
       "    </tr>\n",
       "    <tr>\n",
       "      <th>2</th>\n",
       "      <td>Yes</td>\n",
       "    </tr>\n",
       "  </tbody>\n",
       "</table>\n",
       "</div>"
      ],
      "text/plain": [
       "  play\n",
       "0   No\n",
       "1   No\n",
       "2  Yes"
      ]
     },
     "execution_count": 331,
     "metadata": {},
     "output_type": "execute_result"
    }
   ],
   "source": [
    "res"
   ]
  },
  {
   "cell_type": "code",
   "execution_count": 332,
   "metadata": {},
   "outputs": [],
   "source": [
    "# hasn't handle after universal entropy\n",
    "def information_gain_continous(data, gain_attribute, target_attribute):\n",
    "    gain_result = 0\n",
    "    save_boundary = -1\n",
    "    min_entropy = 999999 \n",
    "    data = data.sort_values(gain_attribute)\n",
    "    data=data.reset_index().drop('index',axis=1)\n",
    "    length_data = len(data)\n",
    "    for i in range(length_data):\n",
    "        if (i!=length_data-1):\n",
    "            if (data.loc[i,target_attribute] != data.loc[i+1,target_attribute]):\n",
    "                temp_boundary = (data.loc[i,gain_attribute] + data.loc[i+1,gain_attribute])/2\n",
    "                parsed_data_upper = data.loc[data[gain_attribute]>=temp_boundary]\n",
    "                parsed_data_lower = data.loc[data[gain_attribute]<temp_boundary]\n",
    "                len_parsed = len(parsed_data_upper)               \n",
    "                temp_entropy = float(len_parsed)/length_data * entropy(parsed_data_upper, target_attribute) + float((length_data-len_parsed))/length_data * entropy(parsed_data_lower, target_attribute)     \n",
    "                if temp_entropy < min_entropy:\n",
    "                    #print(gain_attribute, temp_boundary, temp_entropy)\n",
    "                    min_entropy = temp_entropy \n",
    "                    save_boundary = temp_boundary\n",
    "\n",
    "    gain_result += entropy(data,target_attribute) + (-1 * min_entropy)\n",
    "    return gain_result,save_boundary"
   ]
  },
  {
   "cell_type": "code",
   "execution_count": 333,
   "metadata": {},
   "outputs": [
    {
     "data": {
      "text/plain": [
       "(0.9182958340544894, 2.45)"
      ]
     },
     "execution_count": 333,
     "metadata": {},
     "output_type": "execute_result"
    }
   ],
   "source": [
    "information_gain_continous(iris, 'petal length (cm)', 'target')"
   ]
  },
  {
   "cell_type": "code",
   "execution_count": 334,
   "metadata": {},
   "outputs": [],
   "source": [
    "def best_attribute_c45(data,target_attribute,is_IG):\n",
    "    gain_attribute = {\n",
    "        'value': 0,\n",
    "        'name': '',\n",
    "        'boundary': -99999999\n",
    "    }\n",
    "    \n",
    "    \n",
    "    for i in data.columns:\n",
    "        if (i != target_attribute):\n",
    "            if is_IG:\n",
    "                if data[i].dtypes in [pd.np.dtype('float64'), pd.np.dtype('float32')]:\n",
    "                    ig = information_gain_continous(data, i, target_attribute) \n",
    "                    if ig[0] > gain_attribute['value']:\n",
    "                            gain_attribute['value'] = ig[0]\n",
    "                            gain_attribute['name'] = i\n",
    "                            gain_attribute['boundary'] = ig[1]\n",
    "                else:\n",
    "                    if information_gain(data, i, target_attribute) > gain_attribute['value']:\n",
    "                            gain_attribute['value'] = information_gain(data, i, target_attribute)\n",
    "                            gain_attribute['name'] = i\n",
    "            else:\n",
    "                if data[i].dtypes in [pd.np.dtype('float64'), pd.np.dtype('float32')]:\n",
    "                    ig = gain_ratio_continous(data, i, target_attribute) \n",
    "                    if ig[0] > gain_attribute['value']:\n",
    "                            gain_attribute['value'] = ig[0]\n",
    "                            gain_attribute['name'] = i\n",
    "                            gain_attribute['boundary'] = ig[1]\n",
    "                else:\n",
    "                    if gain_ratio(data, i, target_attribute) > gain_attribute['value']:\n",
    "                            gain_attribute['value'] = gain_ratio(data, i, target_attribute)\n",
    "                            gain_attribute['name'] = i\n",
    "\n",
    "    return gain_attribute['name'],round(gain_attribute['boundary'],2)"
   ]
  },
  {
   "cell_type": "code",
   "execution_count": 335,
   "metadata": {},
   "outputs": [
    {
     "data": {
      "text/plain": [
       "('petal width (cm)', 0.8)"
      ]
     },
     "execution_count": 335,
     "metadata": {},
     "output_type": "execute_result"
    }
   ],
   "source": [
    "best_attribute_c45(iris,'target',False)"
   ]
  },
  {
   "cell_type": "code",
   "execution_count": 336,
   "metadata": {},
   "outputs": [],
   "source": [
    "def c45(data, target_attribute,is_IG):\n",
    "    node = Node()\n",
    "    if data[target_attribute].nunique()==1:\n",
    "        node.setLabel(data[target_attribute].unique()[0])\n",
    "        return node\n",
    "     \n",
    "    elif len(play_tennis.columns)==1:\n",
    "        node.setLabel(get_most_common_label(data, target_attribute))\n",
    "        return node\n",
    "    \n",
    "    else:\n",
    "        best_attribute_,bound  = best_attribute_c45(data,target_attribute,is_IG)\n",
    "        #print(best_attribute_)\n",
    "        node.setAttribute(best_attribute_)\n",
    "        node.set_most_common_label(most_common_label_target(data,target_attribute))\n",
    "        if bound==-99999999:\n",
    "            for i in data[best_attribute_].unique():\n",
    "                node.addChildren(i,c45(data.loc[data[best_attribute_]==i],target_attribute,is_IG))\n",
    "        else:\n",
    "            node.addChildren('>='+str(bound),c45(data.loc[data[best_attribute_]>=bound],target_attribute,is_IG))\n",
    "            node.addChildren('<'+str(bound),c45(data.loc[data[best_attribute_]<bound],target_attribute,is_IG))\n",
    "    return node"
   ]
  },
  {
   "cell_type": "code",
   "execution_count": 337,
   "metadata": {},
   "outputs": [],
   "source": [
    "def c45_prun(data, target_attribute,is_IG,vertex_=None):\n",
    "    node = Node(vertex = vertex_)\n",
    "    if data[target_attribute].nunique()==1:\n",
    "        node.setLabel(data[target_attribute].unique()[0])\n",
    "        return node\n",
    "     \n",
    "    elif len(play_tennis.columns)==1:\n",
    "        node.setLabel(get_most_common_label(data, target_attribute))\n",
    "        return node\n",
    "    \n",
    "    else:\n",
    "        best_attribute_,bound  = best_attribute_c45(data,target_attribute,is_IG)\n",
    "        #print(best_attribute_)\n",
    "        node.setAttribute(best_attribute_)\n",
    "        node.set_most_common_label(most_common_label_target(data,target_attribute))\n",
    "        if bound==-99999999:\n",
    "            for i in data[best_attribute_].unique():\n",
    "                node.addChildren(i,c45_prun(data.loc[data[best_attribute_]==i],target_attribute,is_IG,i))\n",
    "        else:\n",
    "            node.addChildren('>='+str(bound),c45_prun(data.loc[data[best_attribute_]>=bound],target_attribute,is_IG,'>='+str(bound)))\n",
    "            node.addChildren('<'+str(bound),c45_prun(data.loc[data[best_attribute_]<bound],target_attribute,is_IG,'<'+str(bound)))\n",
    "    return node"
   ]
  },
  {
   "cell_type": "code",
   "execution_count": 338,
   "metadata": {},
   "outputs": [
    {
     "data": {
      "text/plain": [
       "<__main__.Node at 0x7f8dbe785c18>"
      ]
     },
     "execution_count": 338,
     "metadata": {},
     "output_type": "execute_result"
    }
   ],
   "source": [
    "c45(iris, \"target\",True)"
   ]
  },
  {
   "cell_type": "code",
   "execution_count": 339,
   "metadata": {
    "scrolled": true
   },
   "outputs": [
    {
     "name": "stdout",
     "output_type": "stream",
     "text": [
      "[petal length (cm)]\n",
      "---->=2.45\n",
      "    [petal width (cm)]\n",
      "-------->=1.75\n",
      "        [sepal width (cm)]\n",
      "------------>=3.15\n",
      "            [sepal length (cm)]\n",
      "---------------->=6.05\n",
      "                    2\n",
      "----------------<6.05\n",
      "                    1\n",
      "------------<3.15\n",
      "                2\n",
      "--------<1.75\n",
      "        [petal length (cm)]\n",
      "------------>=4.95\n",
      "            [petal width (cm)]\n",
      "---------------->=1.55\n",
      "                [sepal length (cm)]\n",
      "-------------------->=6.95\n",
      "                        2\n",
      "--------------------<6.95\n",
      "                        1\n",
      "----------------<1.55\n",
      "                    2\n",
      "------------<4.95\n",
      "            [petal width (cm)]\n",
      "---------------->=1.65\n",
      "                    2\n",
      "----------------<1.65\n",
      "                    1\n",
      "----<2.45\n",
      "        0\n"
     ]
    }
   ],
   "source": [
    "print_tree(c45(iris, \"target\",True),0)"
   ]
  },
  {
   "cell_type": "code",
   "execution_count": 340,
   "metadata": {},
   "outputs": [],
   "source": [
    "def check_tree_c45(node,data,index,result, target_attribute):\n",
    "    if node.label is not None: \n",
    "        result.append(node.getLabel())\n",
    "    else:\n",
    "        if data.loc[index, node.attribute] is None:\n",
    "            result.append(node.get_most_common_label())\n",
    "        else:\n",
    "            for i in node.children:\n",
    "                #print(i)\n",
    "                if i[0]=='<':\n",
    "                    #print(i,2)\n",
    "                    bound=float(i[1:])\n",
    "                    if bound>data.loc[index,node.attribute]:\n",
    "                        #print(data.loc[index,node.attribute])\n",
    "                        check_tree_c45(node.children[i],data,index,result, target_attribute)\n",
    "                elif i[0]=='>':\n",
    "                    bound=float(i[2:])\n",
    "                    #print(i,1)\n",
    "                    if bound<=data.loc[index,node.attribute]:\n",
    "                        #print(data.loc[index,node.attribute])\n",
    "                        check_tree_c45(node.children[i],data,index,result, target_attribute)\n",
    "                else:\n",
    "                    if i==data.loc[index,node.attribute]:\n",
    "                        check_tree(node.children[i],data,index,result, target_attribute)\n",
    "                    "
   ]
  },
  {
   "cell_type": "code",
   "execution_count": 341,
   "metadata": {},
   "outputs": [],
   "source": [
    "def pred_c45(data,model,target_attribute):\n",
    "    result = []\n",
    "    for i in range(len(data)):\n",
    "        check_tree_c45(model,data[i:i+1],i,result, target_attribute)\n",
    "    data = {target_attribute:result}\n",
    "    return pd.DataFrame(data)\n",
    "    "
   ]
  },
  {
   "cell_type": "code",
   "execution_count": 342,
   "metadata": {},
   "outputs": [],
   "source": [
    "p=iris"
   ]
  },
  {
   "cell_type": "code",
   "execution_count": 343,
   "metadata": {},
   "outputs": [],
   "source": [
    "p=p.drop('target',axis=1)"
   ]
  },
  {
   "cell_type": "code",
   "execution_count": 344,
   "metadata": {},
   "outputs": [],
   "source": [
    "p=p.reset_index().drop('index',axis=1)"
   ]
  },
  {
   "cell_type": "code",
   "execution_count": 345,
   "metadata": {},
   "outputs": [],
   "source": [
    "p['sepal width (cm)'] = None"
   ]
  },
  {
   "cell_type": "code",
   "execution_count": 346,
   "metadata": {},
   "outputs": [],
   "source": [
    "model=c45(iris, \"target\",True)\n",
    "res = pred_c45(p,model, \"target\")"
   ]
  },
  {
   "cell_type": "code",
   "execution_count": 347,
   "metadata": {},
   "outputs": [],
   "source": [
    "def accuracy(pred,data):\n",
    "    cnt = 0\n",
    "    for i in range(len(pred)):\n",
    "        if pred.loc[i] == data.loc[i]:\n",
    "            cnt+=1\n",
    "    return cnt*100/len(pred)"
   ]
  },
  {
   "cell_type": "code",
   "execution_count": 348,
   "metadata": {},
   "outputs": [],
   "source": [
    "def get_data_validate(data):\n",
    "    data_column = data.columns\n",
    "    data_20 = pd.DataFrame(columns=data_column)\n",
    "    data_80 = pd.DataFrame(columns=data_column)\n",
    "    print(data_column)\n",
    "    count_20 = 0\n",
    "    count_80 = 0\n",
    "    \n",
    "    for i in range(data.shape[0]):\n",
    "        if(i%5 == 1):\n",
    "            # Pass the row elements as key value pairs to append() function \n",
    "            data_20 = data_20.append(data.loc[[i]] , ignore_index=True)\n",
    "        else:\n",
    "            data_80 = data_80.append(data.loc[[i]] , ignore_index=True)\n",
    "    return data_20, data_80"
   ]
  },
  {
   "cell_type": "code",
   "execution_count": 349,
   "metadata": {},
   "outputs": [
    {
     "name": "stdout",
     "output_type": "stream",
     "text": [
      "Index(['outlook', 'temp', 'humidity', 'wind', 'play'], dtype='object')\n"
     ]
    },
    {
     "data": {
      "text/html": [
       "<div>\n",
       "<style scoped>\n",
       "    .dataframe tbody tr th:only-of-type {\n",
       "        vertical-align: middle;\n",
       "    }\n",
       "\n",
       "    .dataframe tbody tr th {\n",
       "        vertical-align: top;\n",
       "    }\n",
       "\n",
       "    .dataframe thead th {\n",
       "        text-align: right;\n",
       "    }\n",
       "</style>\n",
       "<table border=\"1\" class=\"dataframe\">\n",
       "  <thead>\n",
       "    <tr style=\"text-align: right;\">\n",
       "      <th></th>\n",
       "      <th>outlook</th>\n",
       "      <th>temp</th>\n",
       "      <th>humidity</th>\n",
       "      <th>wind</th>\n",
       "      <th>play</th>\n",
       "    </tr>\n",
       "  </thead>\n",
       "  <tbody>\n",
       "    <tr>\n",
       "      <th>0</th>\n",
       "      <td>Sunny</td>\n",
       "      <td>Hot</td>\n",
       "      <td>High</td>\n",
       "      <td>Strong</td>\n",
       "      <td>No</td>\n",
       "    </tr>\n",
       "    <tr>\n",
       "      <th>1</th>\n",
       "      <td>Overcast</td>\n",
       "      <td>Cool</td>\n",
       "      <td>Normal</td>\n",
       "      <td>Strong</td>\n",
       "      <td>Yes</td>\n",
       "    </tr>\n",
       "    <tr>\n",
       "      <th>2</th>\n",
       "      <td>Overcast</td>\n",
       "      <td>Mild</td>\n",
       "      <td>High</td>\n",
       "      <td>Strong</td>\n",
       "      <td>Yes</td>\n",
       "    </tr>\n",
       "  </tbody>\n",
       "</table>\n",
       "</div>"
      ],
      "text/plain": [
       "    outlook  temp humidity    wind play\n",
       "0     Sunny   Hot     High  Strong   No\n",
       "1  Overcast  Cool   Normal  Strong  Yes\n",
       "2  Overcast  Mild     High  Strong  Yes"
      ]
     },
     "execution_count": 349,
     "metadata": {},
     "output_type": "execute_result"
    }
   ],
   "source": [
    "data20, data80 = get_data_validate(play_tennis)\n",
    "data20"
   ]
  },
  {
   "cell_type": "code",
   "execution_count": 350,
   "metadata": {},
   "outputs": [],
   "source": [
    "def prune_tree(node, attribute, vertex):\n",
    "    if(node.label is not None):\n",
    "        return node,0\n",
    "    elif(node.attribute == attribute and node.vertex == vertex):\n",
    "        node.children = {}\n",
    "        node.attribute = None\n",
    "        node.label = node.most_common_label\n",
    "        \n",
    "        return node,1\n",
    "    else:\n",
    "        for i in node.children:\n",
    "            a,b = prune_tree(node.children[i], attribute, vertex)\n",
    "            \n",
    "        return node,b"
   ]
  },
  {
   "cell_type": "code",
   "execution_count": 351,
   "metadata": {},
   "outputs": [],
   "source": [
    "def post_pruning(data, node, current_node, children_node, target_attribute):\n",
    "    if children_node == 0:\n",
    "        return node\n",
    "    else:\n",
    "        for i in current_node.children:\n",
    "            if current_node.vertex is None: \n",
    "                #print(i,1)\n",
    "                post_pruning(data, node, current_node.children[i], children_node-1, target_attribute)\n",
    "            else:\n",
    "                if current_node.attribute is not None:\n",
    "                    data20, data80 = get_data_validate(data)\n",
    "                    #print(current_node.attribute,2)\n",
    "                    save = copy_tree(current_node)\n",
    "                    temp_node,c = prune_tree(node, current_node.attribute, current_node.vertex)\n",
    "                    train=data20.drop(target_attribute,axis=1)\n",
    "                    #print_tree(node,0)\n",
    "                    temp_node_pred = pred_c45(train, node, target_attribute)\n",
    "                    #print(temp_node_pred)\n",
    "                    temp_node_accuracy = accuracy(temp_node_pred[target_attribute], data20[target_attribute])\n",
    "                    #print(temp_node_accuracy)\n",
    "                    if temp_node_accuracy == 100:\n",
    "                        post_pruning(data, temp_node, current_node, children_node, target_attribute)\n",
    "                    else :\n",
    "                        \n",
    "                        node.addChildren(current_node.vertex, save)\n",
    "                        #print_tree(node,0)\n",
    "\n",
    "\n",
    "                        post_pruning(data, node, save.children[i], children_node, target_attribute)\n",
    "        return node"
   ]
  },
  {
   "cell_type": "code",
   "execution_count": 352,
   "metadata": {},
   "outputs": [],
   "source": [
    "model = c45_prun(iris, \"target\",True)"
   ]
  },
  {
   "cell_type": "code",
   "execution_count": 353,
   "metadata": {},
   "outputs": [
    {
     "name": "stdout",
     "output_type": "stream",
     "text": [
      "Index(['sepal length (cm)', 'sepal width (cm)', 'petal length (cm)',\n",
      "       'petal width (cm)', 'target'],\n",
      "      dtype='object')\n",
      "Index(['sepal length (cm)', 'sepal width (cm)', 'petal length (cm)',\n",
      "       'petal width (cm)', 'target'],\n",
      "      dtype='object')\n"
     ]
    }
   ],
   "source": [
    "model_prun = post_pruning(iris, model,model, len(model.children)+1, 'target')"
   ]
  },
  {
   "cell_type": "code",
   "execution_count": 354,
   "metadata": {},
   "outputs": [
    {
     "name": "stdout",
     "output_type": "stream",
     "text": [
      "[petal length (cm)]\n",
      "---->=2.45\n",
      "    [petal width (cm)]\n",
      "-------->=1.75\n",
      "            2\n",
      "--------<1.75\n",
      "        [petal length (cm)]\n",
      "------------>=4.95\n",
      "            [petal width (cm)]\n",
      "---------------->=1.55\n",
      "                [sepal length (cm)]\n",
      "-------------------->=6.95\n",
      "                        2\n",
      "--------------------<6.95\n",
      "                        1\n",
      "----------------<1.55\n",
      "                    2\n",
      "------------<4.95\n",
      "            [petal width (cm)]\n",
      "---------------->=1.65\n",
      "                    2\n",
      "----------------<1.65\n",
      "                    1\n",
      "----<2.45\n",
      "        0\n"
     ]
    }
   ],
   "source": [
    "print_tree(model,0)"
   ]
  },
  {
   "cell_type": "code",
   "execution_count": 355,
   "metadata": {},
   "outputs": [
    {
     "name": "stdout",
     "output_type": "stream",
     "text": [
      "[petal length (cm)]\n",
      "----1.4\n",
      "        0\n",
      "----1.3\n",
      "        0\n",
      "----1.5\n",
      "        0\n",
      "----1.7\n",
      "        0\n",
      "----1.6\n",
      "        0\n",
      "----1.1\n",
      "        0\n",
      "----1.2\n",
      "        0\n",
      "----1.0\n",
      "        0\n",
      "----1.9\n",
      "        0\n",
      "----4.7\n",
      "        1\n",
      "----4.5\n",
      "    [sepal length (cm)]\n",
      "--------6.4\n",
      "            1\n",
      "--------5.7\n",
      "            1\n",
      "--------5.6\n",
      "            1\n",
      "--------6.2\n",
      "            1\n",
      "--------6.0\n",
      "            1\n",
      "--------5.4\n",
      "            1\n",
      "--------4.9\n",
      "            2\n",
      "----4.9\n",
      "    [sepal width (cm)]\n",
      "--------3.1\n",
      "            1\n",
      "--------2.5\n",
      "            1\n",
      "--------2.8\n",
      "            2\n",
      "--------2.7\n",
      "            2\n",
      "--------3.0\n",
      "            2\n",
      "----4.0\n",
      "        1\n",
      "----4.6\n",
      "        1\n",
      "----3.3\n",
      "        1\n",
      "----3.9\n",
      "        1\n",
      "----3.5\n",
      "        1\n",
      "----4.2\n",
      "        1\n",
      "----3.6\n",
      "        1\n",
      "----4.4\n",
      "        1\n",
      "----4.1\n",
      "        1\n",
      "----4.8\n",
      "    [sepal length (cm)]\n",
      "--------5.9\n",
      "            1\n",
      "--------6.8\n",
      "            1\n",
      "--------6.2\n",
      "            2\n",
      "--------6.0\n",
      "            2\n",
      "----4.3\n",
      "        1\n",
      "----5.0\n",
      "    [sepal length (cm)]\n",
      "--------6.7\n",
      "            1\n",
      "--------5.7\n",
      "            2\n",
      "--------6.0\n",
      "            2\n",
      "--------6.3\n",
      "            2\n",
      "----3.8\n",
      "        1\n",
      "----3.7\n",
      "        1\n",
      "----5.1\n",
      "    [sepal length (cm)]\n",
      "--------6.0\n",
      "            1\n",
      "--------5.8\n",
      "            2\n",
      "--------6.5\n",
      "            2\n",
      "--------6.3\n",
      "            2\n",
      "--------6.9\n",
      "            2\n",
      "--------5.9\n",
      "            2\n",
      "----3.0\n",
      "        1\n",
      "----6.0\n",
      "        2\n",
      "----5.9\n",
      "        2\n",
      "----5.6\n",
      "        2\n",
      "----5.8\n",
      "        2\n",
      "----6.6\n",
      "        2\n",
      "----6.3\n",
      "        2\n",
      "----6.1\n",
      "        2\n",
      "----5.3\n",
      "        2\n",
      "----5.5\n",
      "        2\n",
      "----6.7\n",
      "        2\n",
      "----6.9\n",
      "        2\n",
      "----5.7\n",
      "        2\n",
      "----6.4\n",
      "        2\n",
      "----5.4\n",
      "        2\n",
      "----5.2\n",
      "        2\n"
     ]
    }
   ],
   "source": [
    "model = id3(iris, 'target', True)\n",
    "print_tree(model, 0)"
   ]
  },
  {
   "cell_type": "code",
   "execution_count": null,
   "metadata": {},
   "outputs": [],
   "source": []
  }
 ],
 "metadata": {
  "kernelspec": {
   "display_name": "Python 3",
   "language": "python",
   "name": "python3"
  },
  "language_info": {
   "codemirror_mode": {
    "name": "ipython",
    "version": 3
   },
   "file_extension": ".py",
   "mimetype": "text/x-python",
   "name": "python",
   "nbconvert_exporter": "python",
   "pygments_lexer": "ipython3",
   "version": "3.7.3"
  }
 },
 "nbformat": 4,
 "nbformat_minor": 2
}
